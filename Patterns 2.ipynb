{
 "cells": [
  {
   "cell_type": "code",
   "execution_count": 2,
   "id": "ba2df914",
   "metadata": {},
   "outputs": [
    {
     "name": "stdout",
     "output_type": "stream",
     "text": [
      "5\n",
      "55555\n",
      "4444\n",
      "333\n",
      "22\n",
      "1\n"
     ]
    }
   ],
   "source": [
    "n=int(input())\n",
    "i=1\n",
    "while i <= n :\n",
    "    j=1 \n",
    "    while j<= n-i+1 :\n",
    "        print(n-i+1,end=\"\")\n",
    "        j=j+1\n",
    "    print()\n",
    "    i = i+1"
   ]
  },
  {
   "cell_type": "code",
   "execution_count": 3,
   "id": "66700711",
   "metadata": {},
   "outputs": [
    {
     "name": "stdout",
     "output_type": "stream",
     "text": [
      "6\n",
      "     *\n",
      "    **\n",
      "   ***\n",
      "  ****\n",
      " *****\n",
      "******\n"
     ]
    }
   ],
   "source": [
    "n = int(input())\n",
    "i=1\n",
    "while i<=n :\n",
    "    spaces = 1\n",
    "    while spaces <=n - i :\n",
    "        print(' ',end=\"\")\n",
    "        spaces = spaces+ 1\n",
    "    stars = 1\n",
    "    while stars <=i :\n",
    "        print('*' , end='')\n",
    "        stars = stars +1\n",
    "    print()\n",
    "    i=i+1"
   ]
  },
  {
   "cell_type": "code",
   "execution_count": 4,
   "id": "2235314f",
   "metadata": {},
   "outputs": [
    {
     "name": "stdout",
     "output_type": "stream",
     "text": [
      "5\n",
      "    1\n",
      "   12\n",
      "  123\n",
      " 1234\n",
      "12345\n"
     ]
    }
   ],
   "source": [
    "n = int(input())\n",
    "i=1\n",
    "while i<=n :\n",
    "    spaces = 1\n",
    "    while spaces <=n - i :\n",
    "        print(' ',end=\"\")\n",
    "        spaces = spaces+ 1\n",
    "    stars = 1\n",
    "    while stars <=i :\n",
    "        print(stars , end='')\n",
    "        stars = stars +1\n",
    "    print()\n",
    "    i=i+1"
   ]
  },
  {
   "cell_type": "code",
   "execution_count": 12,
   "id": "d67cd782",
   "metadata": {},
   "outputs": [
    {
     "name": "stdout",
     "output_type": "stream",
     "text": [
      "15\n",
      "              1\n",
      "             121\n",
      "            12321\n",
      "           1234321\n",
      "          123454321\n",
      "         12345654321\n",
      "        1234567654321\n",
      "       123456787654321\n",
      "      12345678987654321\n",
      "     12345678910987654321\n",
      "    123456789101110987654321\n",
      "   1234567891011121110987654321\n",
      "  12345678910111213121110987654321\n",
      " 123456789101112131413121110987654321\n",
      "1234567891011121314151413121110987654321\n"
     ]
    }
   ],
   "source": [
    "n = int(input())\n",
    "i=1\n",
    "while i<=n :\n",
    "    spaces = 1\n",
    "    while spaces <=n - i :\n",
    "        print(' ',end=\"\")\n",
    "        spaces = spaces+ 1\n",
    "    stars = 1\n",
    "    while stars <=i :\n",
    "        print(stars , end='')\n",
    "        stars = stars +1\n",
    "    p=i-1\n",
    "    while p>=1 :\n",
    "        print(p,end='')\n",
    "        p=p-1\n",
    "    print()\n",
    "    i=i+1\n",
    "    "
   ]
  },
  {
   "cell_type": "code",
   "execution_count": 1,
   "id": "1c3f989e",
   "metadata": {},
   "outputs": [
    {
     "name": "stdout",
     "output_type": "stream",
     "text": [
      "4\n",
      "   1\n",
      "  121\n",
      " 12321\n",
      "1234321\n"
     ]
    }
   ],
   "source": [
    "n = int(input())\n",
    "i=1\n",
    "while i<=n :\n",
    "    spaces = 1\n",
    "    while spaces <=n - i :\n",
    "        print(' ',end=\"\")\n",
    "        spaces = spaces+ 1\n",
    "    stars = 1\n",
    "    while stars <=i :\n",
    "        print(stars , end='')\n",
    "        stars = stars +1\n",
    "    p=i-1\n",
    "    while p>=1 :\n",
    "        print(p,end='')\n",
    "        p=p-1\n",
    "    print()\n",
    "    i=i+1\n",
    "    "
   ]
  },
  {
   "cell_type": "code",
   "execution_count": 7,
   "id": "d7bf5171",
   "metadata": {},
   "outputs": [
    {
     "name": "stdout",
     "output_type": "stream",
     "text": [
      "4\n",
      "   1\n",
      "  232\n",
      " 34543\n",
      "4567654\n"
     ]
    }
   ],
   "source": [
    "n= int(input())\n",
    "i=1\n",
    "while i <= n :\n",
    "    j= 1\n",
    "    p= i\n",
    "    spaces = 1\n",
    "    while spaces <=n - i :\n",
    "        print(' ',end=\"\")\n",
    "        spaces = spaces+ 1\n",
    "    stars = 1\n",
    "    while j <= i :\n",
    "        print(p,end='')\n",
    "        j=j+1\n",
    "        p=p+1\n",
    "    k=p-2    \n",
    "    p=i-1\n",
    "    while p>=1 :\n",
    "        print(k,end='')\n",
    "        p=p-1\n",
    "        k=k-1\n",
    "    print()\n",
    "    \n",
    "    \n",
    "    i = i+1"
   ]
  },
  {
   "cell_type": "code",
   "execution_count": 12,
   "id": "02aee31d",
   "metadata": {},
   "outputs": [
    {
     "name": "stdout",
     "output_type": "stream",
     "text": [
      "5\n",
      "    1\n",
      "   121\n",
      "  12321\n",
      " 1234321\n",
      "123454321\n"
     ]
    }
   ],
   "source": [
    "n = int(input())\n",
    "i=1\n",
    "while i<=n :\n",
    "    spaces = 1\n",
    "    while spaces <=n - i :\n",
    "        print(' ',end=\"\")\n",
    "        spaces = spaces+ 1\n",
    "    stars = 1\n",
    "    while stars <=i :\n",
    "        print(stars , end='')\n",
    "        stars = stars +1\n",
    "    p=i-1\n",
    "    while p>=1 :\n",
    "        print(p,end='')\n",
    "        p=p-1\n",
    "    print()\n",
    "    i=i+1"
   ]
  },
  {
   "cell_type": "code",
   "execution_count": 79,
   "id": "408031c0",
   "metadata": {},
   "outputs": [
    {
     "name": "stdout",
     "output_type": "stream",
     "text": [
      "5\n",
      "1        1\n",
      "12      21\n",
      "123    321\n",
      "1234  4321\n",
      "1234554321\n"
     ]
    }
   ],
   "source": [
    "n = int(input())\n",
    "for i in range(1,n+1):\n",
    "    for j in range(1,i+1):\n",
    "        print(j,end='')\n",
    "    for j in range(0,2*n-2*i):\n",
    "        print(\" \",end='')\n",
    "    for j in range(i,0,-1):\n",
    "        print(j,end='')\n",
    "    print('')\n"
   ]
  },
  {
   "cell_type": "code",
   "execution_count": 67,
   "id": "97efbf84",
   "metadata": {},
   "outputs": [
    {
     "name": "stdout",
     "output_type": "stream",
     "text": [
      "  *\n",
      " ***\n",
      "*****\n",
      " ***\n",
      "  *\n"
     ]
    }
   ],
   "source": [
    "\n",
    "\n",
    "def printPattern(n):\n",
    "\n",
    "    currRow = 1\n",
    "    while (currRow <= (n // 2) + 1):\n",
    "        spaces = 1\n",
    "        while (spaces <= (n // 2) + 1 - currRow):\n",
    "            print(\" \", end = \"\", sep = '')\n",
    "            spaces += 1\n",
    "\n",
    "        currCol = 1\n",
    "        while (currCol <= (2 * currRow) - 1):\n",
    "            print(\"*\", end = \"\", sep = '')\n",
    "            currCol += 1\n",
    "     \n",
    "        print()\n",
    "        currRow += 1\n",
    "    currRow = 1\n",
    "\n",
    "\n",
    "    while (currRow <= n // 2):\n",
    "\n",
    "        spaces = 1\n",
    "        while (spaces <= currRow):\n",
    "            print(\" \", end = \"\", sep = '')\n",
    "            spaces += 1\n",
    "\n",
    "        currCol = 2 * ((n // 2) - currRow + 1) - 1\n",
    "\n",
    "        while (currCol >= 1):\n",
    "            print(\"*\", end = \"\", sep = '')\n",
    "            currCol -= 1\n",
    "        print()\n",
    "        currRow += 1\n",
    "        \n",
    "printPattern(5)\n",
    "\n"
   ]
  },
  {
   "cell_type": "code",
   "execution_count": 81,
   "id": "fa862350",
   "metadata": {},
   "outputs": [
    {
     "name": "stdout",
     "output_type": "stream",
     "text": [
      "9\n",
      "*\n",
      " **\n",
      "  ***\n",
      "   ****\n",
      "    *****\n",
      "   ****\n",
      "  ***\n",
      " **\n",
      "*\n"
     ]
    }
   ],
   "source": [
    "num = int(input())\n",
    "for i in range(1,num+1):\n",
    "    if i <= round(num/2):\n",
    "        for j in range(1,i):\n",
    "            print(\" \",end=\"\")\n",
    "        for j in range(0,i):\n",
    "            print(\"*\",end=\"\")\n",
    "    else:\n",
    "        for j in range(1,num-i+1):\n",
    "            print(\" \",end=\"\")\n",
    "        for j in range(0,num-i+1):\n",
    "            print(\"*\",end=\"\")\n",
    "    print()"
   ]
  },
  {
   "cell_type": "code",
   "execution_count": null,
   "id": "68bce482",
   "metadata": {},
   "outputs": [],
   "source": []
  }
 ],
 "metadata": {
  "kernelspec": {
   "display_name": "Python 3",
   "language": "python",
   "name": "python3"
  },
  "language_info": {
   "codemirror_mode": {
    "name": "ipython",
    "version": 3
   },
   "file_extension": ".py",
   "mimetype": "text/x-python",
   "name": "python",
   "nbconvert_exporter": "python",
   "pygments_lexer": "ipython3",
   "version": "3.8.8"
  }
 },
 "nbformat": 4,
 "nbformat_minor": 5
}
