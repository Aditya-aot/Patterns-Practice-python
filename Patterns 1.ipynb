{
 "cells": [
  {
   "cell_type": "code",
   "execution_count": 1,
   "id": "b9fb13a1",
   "metadata": {},
   "outputs": [
    {
     "name": "stdout",
     "output_type": "stream",
     "text": [
      "5\n",
      "*****\n",
      "*****\n",
      "*****\n",
      "*****\n",
      "*****\n"
     ]
    }
   ],
   "source": [
    "# aditya sharma\n",
    "# patterns\n",
    "n=int(input())\n",
    "i=1\n",
    "while i<= n:\n",
    "    j=1\n",
    "    while j <= n:\n",
    "        print('*', end='')\n",
    "        j=j+1\n",
    "    print()\n",
    "    i=i+1"
   ]
  },
  {
   "cell_type": "code",
   "execution_count": 2,
   "id": "fcb0ae8c",
   "metadata": {},
   "outputs": [
    {
     "name": "stdout",
     "output_type": "stream",
     "text": [
      "5\n",
      "1\n",
      "12\n",
      "123\n",
      "1234\n",
      "12345\n"
     ]
    }
   ],
   "source": [
    "n=int(input())\n",
    "i=1\n",
    "while i<= n:\n",
    "    j=1\n",
    "    while j <= i:\n",
    "        print(j, end='')\n",
    "        j=j+1\n",
    "    print()\n",
    "    i=i+1"
   ]
  },
  {
   "cell_type": "markdown",
   "id": "8292a14d",
   "metadata": {},
   "source": [
    "##### n= int(input())\n",
    "i=1\n",
    "while i<=n :\n",
    "    j= 1\n",
    "    p = i\n",
    "    while j <=i :\n",
    "        print(p, end='')\n",
    "        j=j+1\n",
    "        p=p+1\n",
    "    print()\n",
    "    i= i+1\n",
    "        "
   ]
  },
  {
   "cell_type": "code",
   "execution_count": 1,
   "id": "04863350",
   "metadata": {},
   "outputs": [
    {
     "name": "stdout",
     "output_type": "stream",
     "text": [
      "5\n",
      "1\n",
      "23\n",
      "456\n",
      "78910\n",
      "1112131415\n"
     ]
    }
   ],
   "source": [
    "n=int(input())\n",
    "i=1\n",
    "\n",
    "p=1\n",
    "while i<= n:\n",
    "    j=1\n",
    "    while j <= i:\n",
    "        print(p, end='')\n",
    "        j=j+1\n",
    "        p=p+1\n",
    "        \n",
    "    print()\n",
    "    i=i+1"
   ]
  },
  {
   "cell_type": "code",
   "execution_count": 2,
   "id": "ea7395d9",
   "metadata": {},
   "outputs": [
    {
     "name": "stdout",
     "output_type": "stream",
     "text": [
      "5\n",
      "1\n",
      "22\n",
      "333\n",
      "4444\n",
      "55555\n"
     ]
    }
   ],
   "source": [
    "n=int(input())\n",
    "i=1\n",
    "j=1\n",
    "k=1\n",
    "while i<= n:\n",
    "    j=j+1\n",
    "    p=1\n",
    "    while p <= i:\n",
    "        k=j-1\n",
    "        print(k, end='')\n",
    "        p=p+1\n",
    "        \n",
    "        \n",
    "    print()\n",
    "    \n",
    "    i=i+1"
   ]
  },
  {
   "cell_type": "code",
   "execution_count": 3,
   "id": "94d8a9d0",
   "metadata": {},
   "outputs": [
    {
     "name": "stdout",
     "output_type": "stream",
     "text": [
      "B\n"
     ]
    }
   ],
   "source": [
    "a=66\n",
    "print(chr(a))"
   ]
  },
  {
   "cell_type": "code",
   "execution_count": 4,
   "id": "690c36e9",
   "metadata": {},
   "outputs": [
    {
     "name": "stdout",
     "output_type": "stream",
     "text": [
      "5\n",
      "Aa\n",
      "AaBa\n",
      "AaBaCa\n",
      "AaBaCaDa\n",
      "AaBaCaDaEa\n"
     ]
    }
   ],
   "source": [
    "n= int(input())\n",
    "i=1\n",
    "while i<=n :\n",
    "    j= 1\n",
    "    k=65\n",
    "    p = k\n",
    "    while j <=i :\n",
    "        print(chr(p), end='a')\n",
    "        j=j+1\n",
    "        p=p+1\n",
    "    print()\n",
    "    k=k+1\n",
    "    i= i+1\n",
    "        "
   ]
  },
  {
   "cell_type": "code",
   "execution_count": 5,
   "id": "4c175004",
   "metadata": {},
   "outputs": [
    {
     "name": "stdout",
     "output_type": "stream",
     "text": [
      "5\n",
      "12345\n",
      "1234\n",
      "123\n",
      "12\n",
      "1\n"
     ]
    }
   ],
   "source": [
    "n=int(input())\n",
    "for i in range(n+1, 1, -1):\n",
    "    for j in range(1, i):\n",
    "        print(j, end=\"\")\n",
    "    print()"
   ]
  },
  {
   "cell_type": "code",
   "execution_count": 6,
   "id": "6e5e251d",
   "metadata": {},
   "outputs": [
    {
     "name": "stdout",
     "output_type": "stream",
     "text": [
      "5\n",
      "1\n",
      "11\n",
      "121\n",
      "1221\n",
      "12221\n"
     ]
    }
   ],
   "source": [
    "n = int(input())\n",
    "i=1\n",
    "while i<=n:\n",
    "    j=0\n",
    "    while j<i:\n",
    "        if i==1:\n",
    "            print(1, end=\"\")\n",
    "        elif j and j<i-1:\n",
    "            print(2, end=\"\")\n",
    "        else:\n",
    "            print(1, end='')\n",
    "        j=j+1\n",
    "    print()\n",
    "    i=i+1"
   ]
  },
  {
   "cell_type": "code",
   "execution_count": 7,
   "id": "460337f5",
   "metadata": {},
   "outputs": [
    {
     "name": "stdout",
     "output_type": "stream",
     "text": [
      "Enter a number of n: 5\n",
      "A \n",
      "B B \n",
      "C C C \n",
      "D D D D \n",
      "E E E E E \n"
     ]
    }
   ],
   "source": [
    "n = int(input(\"Enter a number of n: \"))\n",
    "for i in range(n):    \n",
    "      print((chr(65+i)+\" \")*(i+1))"
   ]
  },
  {
   "cell_type": "code",
   "execution_count": 8,
   "id": "50692018",
   "metadata": {},
   "outputs": [
    {
     "name": "stdout",
     "output_type": "stream",
     "text": [
      "5\n",
      "A\n",
      "BC\n",
      "CDE\n",
      "DEFG\n",
      "EFGHI\n"
     ]
    }
   ],
   "source": [
    "n=int(input())\n",
    "for i in range(65,65+n):\n",
    "    k=i\n",
    "    # Inner loop\n",
    "    for j in range(65,i+1):\n",
    "        print(chr(k),end=\"\")\n",
    "        k=k+1\n",
    "    print()\n",
    "        "
   ]
  },
  {
   "cell_type": "code",
   "execution_count": 9,
   "id": "ebfe622e",
   "metadata": {},
   "outputs": [
    {
     "name": "stdout",
     "output_type": "stream",
     "text": [
      "5\n",
      "E \n",
      "D E \n",
      "C D E \n",
      "B C D E \n",
      "A B C D E \n"
     ]
    }
   ],
   "source": [
    "\n",
    "n = int(input())\n",
    "for i in range(n, 0, -1):\n",
    "    for j in range(i, n + 1, 1):\n",
    "        print(chr(ord('A') + j - 1),\n",
    "        end = \" \")\n",
    " \n",
    "    print(\"\")\n"
   ]
  },
  {
   "cell_type": "code",
   "execution_count": null,
   "id": "e905ec0d",
   "metadata": {},
   "outputs": [],
   "source": []
  },
  {
   "cell_type": "code",
   "execution_count": 19,
   "id": "dfd0c069",
   "metadata": {},
   "outputs": [
    {
     "name": "stdout",
     "output_type": "stream",
     "text": [
      "6\n",
      "8\n"
     ]
    }
   ],
   "source": [
    "Number = int(input())\n",
    "\n",
    "\n",
    "i = 0\n",
    "First_Value = 1\n",
    "Second_Value = 1\n",
    "           \n",
    "while(i < Number):\n",
    "    if(i <= 1):\n",
    "        Next = 1\n",
    "    else:\n",
    "        Next = First_Value + Second_Value\n",
    "        First_Value = Second_Value\n",
    "        Second_Value = Next\n",
    "    \n",
    "    i = i + 1\n",
    "print(Next)    "
   ]
  },
  {
   "cell_type": "code",
   "execution_count": null,
   "id": "402b5165",
   "metadata": {},
   "outputs": [],
   "source": []
  },
  {
   "cell_type": "code",
   "execution_count": null,
   "id": "13fb5559",
   "metadata": {},
   "outputs": [],
   "source": []
  },
  {
   "cell_type": "code",
   "execution_count": null,
   "id": "d60e901f",
   "metadata": {},
   "outputs": [],
   "source": []
  }
 ],
 "metadata": {
  "kernelspec": {
   "display_name": "Python 3",
   "language": "python",
   "name": "python3"
  },
  "language_info": {
   "codemirror_mode": {
    "name": "ipython",
    "version": 3
   },
   "file_extension": ".py",
   "mimetype": "text/x-python",
   "name": "python",
   "nbconvert_exporter": "python",
   "pygments_lexer": "ipython3",
   "version": "3.8.8"
  }
 },
 "nbformat": 4,
 "nbformat_minor": 5
}
